{
  "nbformat": 4,
  "nbformat_minor": 0,
  "metadata": {
    "colab": {
      "provenance": []
    },
    "kernelspec": {
      "name": "python3",
      "display_name": "Python 3"
    },
    "language_info": {
      "name": "python"
    }
  },
  "cells": [
    {
      "cell_type": "code",
      "source": [
        "# Install dependencies\n",
        "!pip install aif360[all]==0.6.0 pandas seaborn matplotlib scikit-learn --quiet"
      ],
      "metadata": {
        "colab": {
          "base_uri": "https://localhost:8080/"
        },
        "id": "8rhQPr_kEOHi",
        "outputId": "1c7d0ff6-9a3a-42dd-d751-27db00c7cd92"
      },
      "execution_count": 56,
      "outputs": [
        {
          "output_type": "stream",
          "name": "stdout",
          "text": [
            "\u001b[?25l     \u001b[90m━━━━━━━━━━━━━━━━━━━━━━━━━━━━━━━━━━━━━━━━\u001b[0m \u001b[32m0.0/2.6 MB\u001b[0m \u001b[31m?\u001b[0m eta \u001b[36m-:--:--\u001b[0m\r\u001b[2K     \u001b[91m━━━━━━━━━━━━━\u001b[0m\u001b[91m╸\u001b[0m\u001b[90m━━━━━━━━━━━━━━━━━━━━━━━━━━\u001b[0m \u001b[32m0.9/2.6 MB\u001b[0m \u001b[31m27.9 MB/s\u001b[0m eta \u001b[36m0:00:01\u001b[0m\r\u001b[2K     \u001b[91m━━━━━━━━━━━━━━━━━━━━━━━━━━━━━━━━━━━━━━━\u001b[0m\u001b[91m╸\u001b[0m \u001b[32m2.6/2.6 MB\u001b[0m \u001b[31m41.5 MB/s\u001b[0m eta \u001b[36m0:00:01\u001b[0m\r\u001b[2K     \u001b[90m━━━━━━━━━━━━━━━━━━━━━━━━━━━━━━━━━━━━━━━━\u001b[0m \u001b[32m2.6/2.6 MB\u001b[0m \u001b[31m29.4 MB/s\u001b[0m eta \u001b[36m0:00:00\u001b[0m\n",
            "\u001b[?25h  Preparing metadata (setup.py) ... \u001b[?25l\u001b[?25hdone\n",
            "\u001b[2K     \u001b[90m━━━━━━━━━━━━━━━━━━━━━━━━━━━━━━━━━━━━━━\u001b[0m \u001b[32m275.7/275.7 kB\u001b[0m \u001b[31m14.5 MB/s\u001b[0m eta \u001b[36m0:00:00\u001b[0m\n",
            "\u001b[?25h  Preparing metadata (setup.py) ... \u001b[?25l\u001b[?25hdone\n",
            "\u001b[2K   \u001b[90m━━━━━━━━━━━━━━━━━━━━━━━━━━━━━━━━━━━━━━━━\u001b[0m \u001b[32m1.1/1.1 MB\u001b[0m \u001b[31m38.1 MB/s\u001b[0m eta \u001b[36m0:00:00\u001b[0m\n",
            "\u001b[2K   \u001b[90m━━━━━━━━━━━━━━━━━━━━━━━━━━━━━━━━━━━━━━━━\u001b[0m \u001b[32m240.0/240.0 kB\u001b[0m \u001b[31m14.9 MB/s\u001b[0m eta \u001b[36m0:00:00\u001b[0m\n",
            "\u001b[2K   \u001b[90m━━━━━━━━━━━━━━━━━━━━━━━━━━━━━━━━━━━━━━━━\u001b[0m \u001b[32m45.8/45.8 kB\u001b[0m \u001b[31m2.4 MB/s\u001b[0m eta \u001b[36m0:00:00\u001b[0m\n",
            "\u001b[2K   \u001b[90m━━━━━━━━━━━━━━━━━━━━━━━━━━━━━━━━━━━━━━━━\u001b[0m \u001b[32m897.5/897.5 kB\u001b[0m \u001b[31m31.7 MB/s\u001b[0m eta \u001b[36m0:00:00\u001b[0m\n",
            "\u001b[2K   \u001b[90m━━━━━━━━━━━━━━━━━━━━━━━━━━━━━━━━━━━━━━━━\u001b[0m \u001b[32m363.4/363.4 MB\u001b[0m \u001b[31m1.6 MB/s\u001b[0m eta \u001b[36m0:00:00\u001b[0m\n",
            "\u001b[2K   \u001b[90m━━━━━━━━━━━━━━━━━━━━━━━━━━━━━━━━━━━━━━━━\u001b[0m \u001b[32m13.8/13.8 MB\u001b[0m \u001b[31m23.4 MB/s\u001b[0m eta \u001b[36m0:00:00\u001b[0m\n",
            "\u001b[2K   \u001b[90m━━━━━━━━━━━━━━━━━━━━━━━━━━━━━━━━━━━━━━━━\u001b[0m \u001b[32m24.6/24.6 MB\u001b[0m \u001b[31m9.2 MB/s\u001b[0m eta \u001b[36m0:00:00\u001b[0m\n",
            "\u001b[2K   \u001b[90m━━━━━━━━━━━━━━━━━━━━━━━━━━━━━━━━━━━━━━━━\u001b[0m \u001b[32m883.7/883.7 kB\u001b[0m \u001b[31m10.9 MB/s\u001b[0m eta \u001b[36m0:00:00\u001b[0m\n",
            "\u001b[2K   \u001b[90m━━━━━━━━━━━━━━━━━━━━━━━━━━━━━━━━━━━━━━━━\u001b[0m \u001b[32m664.8/664.8 MB\u001b[0m \u001b[31m1.1 MB/s\u001b[0m eta \u001b[36m0:00:00\u001b[0m\n",
            "\u001b[2K   \u001b[90m━━━━━━━━━━━━━━━━━━━━━━━━━━━━━━━━━━━━━━━━\u001b[0m \u001b[32m211.5/211.5 MB\u001b[0m \u001b[31m4.4 MB/s\u001b[0m eta \u001b[36m0:00:00\u001b[0m\n",
            "\u001b[2K   \u001b[90m━━━━━━━━━━━━━━━━━━━━━━━━━━━━━━━━━━━━━━━━\u001b[0m \u001b[32m56.3/56.3 MB\u001b[0m \u001b[31m10.9 MB/s\u001b[0m eta \u001b[36m0:00:00\u001b[0m\n",
            "\u001b[2K   \u001b[90m━━━━━━━━━━━━━━━━━━━━━━━━━━━━━━━━━━━━━━━━\u001b[0m \u001b[32m127.9/127.9 MB\u001b[0m \u001b[31m7.7 MB/s\u001b[0m eta \u001b[36m0:00:00\u001b[0m\n",
            "\u001b[2K   \u001b[90m━━━━━━━━━━━━━━━━━━━━━━━━━━━━━━━━━━━━━━━━\u001b[0m \u001b[32m207.5/207.5 MB\u001b[0m \u001b[31m2.5 MB/s\u001b[0m eta \u001b[36m0:00:00\u001b[0m\n",
            "\u001b[2K   \u001b[90m━━━━━━━━━━━━━━━━━━━━━━━━━━━━━━━━━━━━━━━━\u001b[0m \u001b[32m21.1/21.1 MB\u001b[0m \u001b[31m61.0 MB/s\u001b[0m eta \u001b[36m0:00:00\u001b[0m\n",
            "\u001b[2K   \u001b[90m━━━━━━━━━━━━━━━━━━━━━━━━━━━━━━━━━━━━━━━━\u001b[0m \u001b[32m515.7/515.7 kB\u001b[0m \u001b[31m24.9 MB/s\u001b[0m eta \u001b[36m0:00:00\u001b[0m\n",
            "\u001b[2K   \u001b[90m━━━━━━━━━━━━━━━━━━━━━━━━━━━━━━━━━━━━━━━━\u001b[0m \u001b[32m228.9/228.9 kB\u001b[0m \u001b[31m14.0 MB/s\u001b[0m eta \u001b[36m0:00:00\u001b[0m\n",
            "\u001b[2K   \u001b[90m━━━━━━━━━━━━━━━━━━━━━━━━━━━━━━━━━━━━━━━━\u001b[0m \u001b[32m7.7/7.7 MB\u001b[0m \u001b[31m76.8 MB/s\u001b[0m eta \u001b[36m0:00:00\u001b[0m\n",
            "\u001b[2K   \u001b[90m━━━━━━━━━━━━━━━━━━━━━━━━━━━━━━━━━━━━━━━━\u001b[0m \u001b[32m75.6/75.6 kB\u001b[0m \u001b[31m5.3 MB/s\u001b[0m eta \u001b[36m0:00:00\u001b[0m\n",
            "\u001b[2K   \u001b[90m━━━━━━━━━━━━━━━━━━━━━━━━━━━━━━━━━━━━━━━━\u001b[0m \u001b[32m244.6/244.6 kB\u001b[0m \u001b[31m15.6 MB/s\u001b[0m eta \u001b[36m0:00:00\u001b[0m\n",
            "\u001b[2K   \u001b[90m━━━━━━━━━━━━━━━━━━━━━━━━━━━━━━━━━━━━━━━━\u001b[0m \u001b[32m121.1/121.1 kB\u001b[0m \u001b[31m7.8 MB/s\u001b[0m eta \u001b[36m0:00:00\u001b[0m\n",
            "\u001b[2K   \u001b[90m━━━━━━━━━━━━━━━━━━━━━━━━━━━━━━━━━━━━━━━━\u001b[0m \u001b[32m4.4/4.4 MB\u001b[0m \u001b[31m61.2 MB/s\u001b[0m eta \u001b[36m0:00:00\u001b[0m\n",
            "\u001b[2K   \u001b[90m━━━━━━━━━━━━━━━━━━━━━━━━━━━━━━━━━━━━━━━━\u001b[0m \u001b[32m12.3/12.3 MB\u001b[0m \u001b[31m57.6 MB/s\u001b[0m eta \u001b[36m0:00:00\u001b[0m\n",
            "\u001b[2K   \u001b[90m━━━━━━━━━━━━━━━━━━━━━━━━━━━━━━━━━━━━━━━━\u001b[0m \u001b[32m1.6/1.6 MB\u001b[0m \u001b[31m48.9 MB/s\u001b[0m eta \u001b[36m0:00:00\u001b[0m\n",
            "\u001b[2K   \u001b[90m━━━━━━━━━━━━━━━━━━━━━━━━━━━━━━━━━━━━━━━━\u001b[0m \u001b[32m69.4/69.4 kB\u001b[0m \u001b[31m4.0 MB/s\u001b[0m eta \u001b[36m0:00:00\u001b[0m\n",
            "\u001b[2K   \u001b[90m━━━━━━━━━━━━━━━━━━━━━━━━━━━━━━━━━━━━━━━━\u001b[0m \u001b[32m386.9/386.9 kB\u001b[0m \u001b[31m20.3 MB/s\u001b[0m eta \u001b[36m0:00:00\u001b[0m\n",
            "\u001b[2K   \u001b[90m━━━━━━━━━━━━━━━━━━━━━━━━━━━━━━━━━━━━━━━━\u001b[0m \u001b[32m133.5/133.5 kB\u001b[0m \u001b[31m8.7 MB/s\u001b[0m eta \u001b[36m0:00:00\u001b[0m\n",
            "\u001b[2K   \u001b[90m━━━━━━━━━━━━━━━━━━━━━━━━━━━━━━━━━━━━━━━━\u001b[0m \u001b[32m59.7/59.7 kB\u001b[0m \u001b[31m3.6 MB/s\u001b[0m eta \u001b[36m0:00:00\u001b[0m\n",
            "\u001b[2K   \u001b[90m━━━━━━━━━━━━━━━━━━━━━━━━━━━━━━━━━━━━━━━━\u001b[0m \u001b[32m66.4/66.4 kB\u001b[0m \u001b[31m4.3 MB/s\u001b[0m eta \u001b[36m0:00:00\u001b[0m\n",
            "\u001b[2K   \u001b[90m━━━━━━━━━━━━━━━━━━━━━━━━━━━━━━━━━━━━━━━━\u001b[0m \u001b[32m111.0/111.0 kB\u001b[0m \u001b[31m7.1 MB/s\u001b[0m eta \u001b[36m0:00:00\u001b[0m\n",
            "\u001b[?25h  Building wheel for BlackBoxAuditing (setup.py) ... \u001b[?25l\u001b[?25hdone\n",
            "  Building wheel for lime (setup.py) ... \u001b[?25l\u001b[?25hdone\n"
          ]
        }
      ]
    },
    {
      "cell_type": "code",
      "source": [
        "from aif360.sklearn.datasets import fetch_compas\n",
        "\n",
        "X, y = fetch_compas(\n",
        "    subset='all',\n",
        "    binary_race=True,\n",
        "    dropna=True,\n",
        "    numeric_only=True\n",
        ")\n",
        "print(\"Features shape:\", X.shape)\n",
        "print(\"Labels shape:\", y.shape)"
      ],
      "metadata": {
        "colab": {
          "base_uri": "https://localhost:8080/"
        },
        "id": "86qhzyMEEY9N",
        "outputId": "e2fec3c8-0e07-4536-af6f-7dd3330429fb"
      },
      "execution_count": 73,
      "outputs": [
        {
          "output_type": "stream",
          "name": "stdout",
          "text": [
            "Features shape: (5278, 9)\n",
            "Labels shape: (5278,)\n"
          ]
        }
      ]
    },
    {
      "cell_type": "code",
      "execution_count": 74,
      "metadata": {
        "colab": {
          "base_uri": "https://localhost:8080/"
        },
        "id": "N1C3Kch4DQrc",
        "outputId": "8b7f1ac5-cb68-49c0-e286-06b028da5e4e"
      },
      "outputs": [
        {
          "output_type": "stream",
          "name": "stdout",
          "text": [
            "✅ Dataset ready with 5278 rows\n"
          ]
        }
      ],
      "source": [
        "import pandas as pd\n",
        "from aif360.datasets import StandardDataset\n",
        "\n",
        "df = X.copy()\n",
        "df['label'] = y\n",
        "\n",
        "# Flatten columns and index\n",
        "df.columns = df.columns.map(str)\n",
        "df = df.reset_index(drop=True)\n",
        "\n",
        "dataset = StandardDataset(\n",
        "    df=df,\n",
        "    label_name='label',\n",
        "    favorable_classes=[0],\n",
        "    protected_attribute_names=['race'],\n",
        "    privileged_classes=[[1]],\n",
        "    categorical_features=[],\n",
        "    features_to_keep=df.columns.tolist(),\n",
        "    features_to_drop=[],\n",
        "    na_values=[]\n",
        ")\n",
        "print(\"✅ Dataset ready with\", dataset.features.shape[0], \"rows\")"
      ]
    },
    {
      "cell_type": "code",
      "source": [
        "train, test = dataset.split([0.7], shuffle=True)\n",
        "print(\"Train shape:\", train.features.shape, \"| Test shape:\", test.features.shape)"
      ],
      "metadata": {
        "colab": {
          "base_uri": "https://localhost:8080/"
        },
        "id": "q2mQtVwcQtyp",
        "outputId": "236ff948-74b9-4145-958e-4a647a10f00c"
      },
      "execution_count": 75,
      "outputs": [
        {
          "output_type": "stream",
          "name": "stdout",
          "text": [
            "Train shape: (3694, 9) | Test shape: (1584, 9)\n"
          ]
        }
      ]
    },
    {
      "cell_type": "code",
      "source": [
        "from sklearn.preprocessing import StandardScaler\n",
        "from sklearn.linear_model import LogisticRegression\n",
        "\n",
        "scaler = StandardScaler().fit(train.features)\n",
        "clf = LogisticRegression(solver='liblinear')\n",
        "clf.fit(scaler.transform(train.features), train.labels.ravel())\n",
        "\n",
        "test_pred = test.copy()\n",
        "test_pred.labels = clf.predict(scaler.transform(test.features))"
      ],
      "metadata": {
        "id": "gQEumrXWFNpK"
      },
      "execution_count": 76,
      "outputs": []
    },
    {
      "cell_type": "code",
      "source": [
        "from aif360.metrics import ClassificationMetric\n",
        "\n",
        "priv = [{'race': 1.0}]\n",
        "unpriv = [{'race': 0.0}]\n",
        "\n",
        "metric = ClassificationMetric(\n",
        "    test, test_pred,\n",
        "    privileged_groups=priv,\n",
        "    unprivileged_groups=unpriv\n",
        ")\n",
        "\n",
        "fpr_priv = metric.false_positive_rate(privileged=True)\n",
        "fpr_unpriv = metric.false_positive_rate(privileged=False)\n",
        "print(f\"Baseline FPR gap (Unpriv − Priv): {fpr_unpriv - fpr_priv:.3f}\")"
      ],
      "metadata": {
        "colab": {
          "base_uri": "https://localhost:8080/"
        },
        "id": "A6x8MNSOMu-f",
        "outputId": "1d1290e6-9217-4d3a-f8bc-bcb9bdc37b63"
      },
      "execution_count": 77,
      "outputs": [
        {
          "output_type": "stream",
          "name": "stdout",
          "text": [
            "Baseline FPR gap (Unpriv − Priv): -0.321\n"
          ]
        }
      ]
    },
    {
      "cell_type": "code",
      "source": [
        "import seaborn as sns\n",
        "import matplotlib.pyplot as plt\n",
        "\n",
        "sns.barplot(\n",
        "    x=[\"Unprivileged\", \"Privileged\"],\n",
        "    y=[fpr_unpriv, fpr_priv]\n",
        ")\n",
        "plt.title(\"Baseline False Positive Rate by Race\")\n",
        "plt.ylabel(\"False Positive Rate\")\n",
        "plt.ylim(0, 1)\n",
        "plt.show()\n",
        "\n"
      ],
      "metadata": {
        "colab": {
          "base_uri": "https://localhost:8080/",
          "height": 452
        },
        "id": "nEJws61EVaza",
        "outputId": "cbeeed33-df92-4c5e-fd36-2a1d5701dc90"
      },
      "execution_count": 78,
      "outputs": [
        {
          "output_type": "display_data",
          "data": {
            "text/plain": [
              "<Figure size 640x480 with 1 Axes>"
            ],
            "image/png": "[encoded data removed]"
          },
          "metadata": {}
        }
      ]
    },
    {
      "cell_type": "code",
      "source": [
        "from aif360.algorithms.preprocessing import Reweighing\n",
        "\n",
        "rw = Reweighing(unprivileged_groups=unpriv, privileged_groups=priv)\n",
        "rw.fit(train)\n",
        "train_rw = rw.transform(train)\n",
        "\n",
        "clf_rw = LogisticRegression(solver='liblinear')\n",
        "clf_rw.fit(\n",
        "    StandardScaler().fit_transform(train_rw.features),\n",
        "    train_rw.labels.ravel(),\n",
        "    sample_weight=train_rw.instance_weights\n",
        ")\n",
        "\n",
        "test_pred_rw = test.copy()\n",
        "test_pred_rw.labels = clf_rw.predict(scaler.transform(test.features))\n"
      ],
      "metadata": {
        "id": "PUSeXEj2MSHJ"
      },
      "execution_count": 79,
      "outputs": []
    },
    {
      "cell_type": "code",
      "source": [
        "metric_rw = ClassificationMetric(\n",
        "    test, test_pred_rw,\n",
        "    privileged_groups=priv,\n",
        "    unprivileged_groups=unpriv\n",
        ")\n",
        "\n",
        "fpr_priv_rw = metric_rw.false_positive_rate(privileged=True)\n",
        "fpr_unpriv_rw = metric_rw.false_positive_rate(privileged=False)\n",
        "print(f\"Post‑mitigation FPR gap: {fpr_unpriv_rw - fpr_priv_rw:.3f}\")"
      ],
      "metadata": {
        "colab": {
          "base_uri": "https://localhost:8080/"
        },
        "id": "_GViV5_XFYDP",
        "outputId": "a75f816e-cd87-4f96-b5f4-91fcc33eb028"
      },
      "execution_count": 80,
      "outputs": [
        {
          "output_type": "stream",
          "name": "stdout",
          "text": [
            "Post‑mitigation FPR gap: 0.046\n"
          ]
        }
      ]
    },
    {
      "cell_type": "code",
      "source": [
        "sns.barplot(\n",
        "    x=[\"Unprivileged\", \"Privileged\"],\n",
        "    y=[fpr_unpriv_rw, fpr_priv_rw]\n",
        ")\n",
        "plt.title(\"FPR by Race After Reweighing\")\n",
        "plt.ylabel(\"False Positive Rate\")\n",
        "plt.ylim(0, 1)\n",
        "plt.show()"
      ],
      "metadata": {
        "colab": {
          "base_uri": "https://localhost:8080/",
          "height": 452
        },
        "id": "6_EeXXCBFbu2",
        "outputId": "dbfeb8a8-6bed-4792-b15c-6959c0faa7c3"
      },
      "execution_count": 81,
      "outputs": [
        {
          "output_type": "display_data",
          "data": {
            "text/plain": [
              "<Figure size 640x480 with 1 Axes>"
            ],
            "image/png": "[encoded data removed]"
          },
          "metadata": {}
        }
      ]
    },
    {
      "cell_type": "code",
      "source": [
        "# Ensure metric and metric_rw are already defined from earlier steps\n",
        "\n",
        "def summarize_bias_metrics(metric, metric_rw):\n",
        "    fpr_priv = metric.false_positive_rate(privileged=True)\n",
        "    fpr_unpriv = metric.false_positive_rate(privileged=False)\n",
        "    fpr_gap = fpr_unpriv - fpr_priv\n",
        "\n",
        "    fpr_priv_rw = metric_rw.false_positive_rate(privileged=True)\n",
        "    fpr_unpriv_rw = metric_rw.false_positive_rate(privileged=False)\n",
        "    fpr_gap_rw = fpr_unpriv_rw - fpr_priv_rw\n",
        "\n",
        "    print(\"📌 Privileged group: race = 1 (Caucasian)\")\n",
        "    print(\"📌 Unprivileged group: race = 0 (African-American)\\n\")\n",
        "\n",
        "    print(\"🔹 Baseline Metrics:\")\n",
        "    print(f\"   FPR – Privileged:     {fpr_priv:.3f}\")\n",
        "    print(f\"   FPR – Unprivileged:   {fpr_unpriv:.3f}\")\n",
        "    print(f\"   FPR Gap:              {fpr_gap:.3f}\\n\")\n",
        "\n",
        "    print(\"🔹 Post-Mitigation Metrics (Reweighing):\")\n",
        "    print(f\"   FPR – Privileged:     {fpr_priv_rw:.3f}\")\n",
        "    print(f\"   FPR – Unprivileged:   {fpr_unpriv_rw:.3f}\")\n",
        "    print(f\"   FPR Gap:              {fpr_gap_rw:.3f}\")\n",
        "\n",
        "# Run the summary\n",
        "summarize_bias_metrics(metric, metric_rw)\n"
      ],
      "metadata": {
        "colab": {
          "base_uri": "https://localhost:8080/"
        },
        "id": "31K17I55XOSI",
        "outputId": "3a04a205-bccb-4ec7-ff5d-25180a5be358"
      },
      "execution_count": 82,
      "outputs": [
        {
          "output_type": "stream",
          "name": "stdout",
          "text": [
            "📌 Privileged group: race = 1 (Caucasian)\n",
            "📌 Unprivileged group: race = 0 (African-American)\n",
            "\n",
            "🔹 Baseline Metrics:\n",
            "   FPR – Privileged:     0.611\n",
            "   FPR – Unprivileged:   0.290\n",
            "   FPR Gap:              -0.321\n",
            "\n",
            "🔹 Post-Mitigation Metrics (Reweighing):\n",
            "   FPR – Privileged:     0.377\n",
            "   FPR – Unprivileged:   0.423\n",
            "   FPR Gap:              0.046\n"
          ]
        }
      ]
    }
  ]
}