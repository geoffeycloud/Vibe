{
  "nbformat": 4,
  "nbformat_minor": 0,
  "metadata": {
    "colab": {
      "provenance": [],
      "gpuType": "T4"
    },
    "kernelspec": {
      "name": "python3",
      "display_name": "Python 3"
    },
    "language_info": {
      "name": "python"
    },
    "accelerator": "GPU"
  },
  "cells": [
    {
      "cell_type": "code",
      "source": [
        "import kagglehub\n",
        "\n",
        "# Download latest version\n",
        "path = kagglehub.dataset_download(\"bittlingmayer/amazonreviews\")\n",
        "print(\"Path to dataset files:\", path)\n",
        "\n",
        "import os\n",
        "import bz2\n",
        "import spacy\n",
        "import pandas as pd\n",
        "\n",
        "print(\"Libraries and spaCy model setup complete.\")\n"
      ],
      "metadata": {
        "colab": {
          "base_uri": "https://localhost:8080/"
        },
        "id": "l6gWgriuWRZw",
        "outputId": "06a2abaf-3e4f-4f68-91c6-ae5ca84c998a"
      },
      "execution_count": 7,
      "outputs": [
        {
          "output_type": "stream",
          "name": "stdout",
          "text": [
            "Path to dataset files: /kaggle/input/amazonreviews\n",
            "Libraries and spaCy model setup complete.\n"
          ]
        }
      ]
    },
    {
      "cell_type": "code",
      "source": [
        "# List files in the downloaded dataset folder\n",
        "print(\"Files in dataset folder:\")\n",
        "for file in os.listdir(path):\n",
        "    print(file)\n"
      ],
      "metadata": {
        "colab": {
          "base_uri": "https://localhost:8080/"
        },
        "id": "s_0IcrsUWZVi",
        "outputId": "b75add08-16c6-470c-bec6-5417d7ec1e31"
      },
      "execution_count": 8,
      "outputs": [
        {
          "output_type": "stream",
          "name": "stdout",
          "text": [
            "Files in dataset folder:\n",
            "test.ft.txt.bz2\n",
            "train.ft.txt.bz2\n"
          ]
        }
      ]
    },
    {
      "cell_type": "code",
      "source": [
        "# Load spaCy English language model\n",
        "nlp = spacy.load(\"en_core_web_sm\")\n",
        "print(\"spaCy model loaded.\")\n"
      ],
      "metadata": {
        "colab": {
          "base_uri": "https://localhost:8080/"
        },
        "id": "SOUXCjZXWe6r",
        "outputId": "4aa53c56-ae59-480b-c996-0ce1bdc8939c"
      },
      "execution_count": 9,
      "outputs": [
        {
          "output_type": "stream",
          "name": "stdout",
          "text": [
            "spaCy model loaded.\n"
          ]
        }
      ]
    },
    {
      "cell_type": "code",
      "source": [
        "# Build full path to training file\n",
        "train_file_path = os.path.join(path, \"train.ft.txt.bz2\")\n",
        "\n",
        "# Read the first 10 reviews\n",
        "reviews = []\n",
        "with bz2.open(train_file_path, \"rt\", encoding=\"utf-8\") as f:\n",
        "    for i, line in enumerate(f):\n",
        "        if i >= 10:\n",
        "            break\n",
        "        label, text = line.strip().split(' ', 1)\n",
        "        sentiment = \"Positive\" if label == \"__label__2\" else \"Negative\"\n",
        "        reviews.append((text, sentiment))\n",
        "\n",
        "print(f\"Loaded {len(reviews)} reviews.\")\n"
      ],
      "metadata": {
        "colab": {
          "base_uri": "https://localhost:8080/"
        },
        "id": "L1IUDB9_WjLn",
        "outputId": "223558b2-d617-455f-ba14-9adba7d032d8"
      },
      "execution_count": 10,
      "outputs": [
        {
          "output_type": "stream",
          "name": "stdout",
          "text": [
            "Loaded 10 reviews.\n"
          ]
        }
      ]
    },
    {
      "cell_type": "code",
      "source": [
        "# Process each review with spaCy for NER and print sentiment\n",
        "for i, (review, sentiment) in enumerate(reviews, 1):\n",
        "    doc = nlp(review)\n",
        "    entities = [(ent.text, ent.label_) for ent in doc.ents if ent.label_ in (\"PRODUCT\", \"ORG\", \"GPE\")]\n",
        "\n",
        "    print(f\"\\nReview {i}:\")\n",
        "    print(review)\n",
        "    print(\"Sentiment (from label):\", sentiment)\n",
        "    print(\"Named Entities (PRODUCT, ORG, GPE):\", entities)\n"
      ],
      "metadata": {
        "colab": {
          "base_uri": "https://localhost:8080/"
        },
        "id": "qPAyCTJtWlY0",
        "outputId": "0aba324f-37a5-44de-d6df-329461a56301"
      },
      "execution_count": 11,
      "outputs": [
        {
          "output_type": "stream",
          "name": "stdout",
          "text": [
            "\n",
            "Review 1:\n",
            "Stuning even for the non-gamer: This sound track was beautiful! It paints the senery in your mind so well I would recomend it even to people who hate vid. game music! I have played the game Chrono Cross but out of all of the games I have ever played it has the best music! It backs away from crude keyboarding and takes a fresher step with grate guitars and soulful orchestras. It would impress anyone who cares to listen! ^_^\n",
            "Sentiment (from label): Positive\n",
            "Named Entities (PRODUCT, ORG, GPE): [('Chrono Cross', 'ORG')]\n",
            "\n",
            "Review 2:\n",
            "The best soundtrack ever to anything.: I'm reading a lot of reviews saying that this is the best 'game soundtrack' and I figured that I'd write a review to disagree a bit. This in my opinino is Yasunori Mitsuda's ultimate masterpiece. The music is timeless and I'm been listening to it for years now and its beauty simply refuses to fade.The price tag on this is pretty staggering I must say, but if you are going to buy any cd for this much money, this is the only one that I feel would be worth every penny.\n",
            "Sentiment (from label): Positive\n",
            "Named Entities (PRODUCT, ORG, GPE): []\n",
            "\n",
            "Review 3:\n",
            "Amazing!: This soundtrack is my favorite music of all time, hands down. The intense sadness of \"Prisoners of Fate\" (which means all the more if you've played the game) and the hope in \"A Distant Promise\" and \"Girl who Stole the Star\" have been an important inspiration to me personally throughout my teen years. The higher energy tracks like \"Chrono Cross ~ Time's Scar~\", \"Time of the Dreamwatch\", and \"Chronomantique\" (indefinably remeniscent of Chrono Trigger) are all absolutely superb as well.This soundtrack is amazing music, probably the best of this composer's work (I haven't heard the Xenogears soundtrack, so I can't say for sure), and even if you've never played the game, it would be worth twice the price to buy it.I wish I could give it 6 stars.\n",
            "Sentiment (from label): Positive\n",
            "Named Entities (PRODUCT, ORG, GPE): [('Time', 'ORG'), ('Scar~', 'ORG')]\n",
            "\n",
            "Review 4:\n",
            "Excellent Soundtrack: I truly like this soundtrack and I enjoy video game music. I have played this game and most of the music on here I enjoy and it's truly relaxing and peaceful.On disk one. my favorites are Scars Of Time, Between Life and Death, Forest Of Illusion, Fortress of Ancient Dragons, Lost Fragment, and Drowned Valley.Disk Two: The Draggons, Galdorb - Home, Chronomantique, Prisoners of Fate, Gale, and my girlfriend likes ZelbessDisk Three: The best of the three. Garden Of God, Chronopolis, Fates, Jellyfish sea, Burning Orphange, Dragon's Prayer, Tower Of Stars, Dragon God, and Radical Dreamers - Unstealable Jewel.Overall, this is a excellent soundtrack and should be brought by those that like video game music.Xander Cross\n",
            "Sentiment (from label): Positive\n",
            "Named Entities (PRODUCT, ORG, GPE): [('Between Life and Death, Forest Of Illusion, Fortress of Ancient Dragons', 'ORG'), ('Drowned Valley', 'ORG'), ('Galdorb - Home', 'ORG'), ('ZelbessDisk', 'ORG'), ('Chronopolis', 'GPE'), ('Fates', 'GPE'), ('Burning Orphange', 'ORG'), (\"Dragon's Prayer, Tower Of Stars\", 'ORG'), ('Radical Dreamers - Unstealable Jewel', 'ORG')]\n",
            "\n",
            "Review 5:\n",
            "Remember, Pull Your Jaw Off The Floor After Hearing it: If you've played the game, you know how divine the music is! Every single song tells a story of the game, it's that good! The greatest songs are without a doubt, Chrono Cross: Time's Scar, Magical Dreamers: The Wind, The Stars, and the Sea and Radical Dreamers: Unstolen Jewel. (Translation varies) This music is perfect if you ask me, the best it can be. Yasunori Mitsuda just poured his heart on and wrote it down on paper.\n",
            "Sentiment (from label): Positive\n",
            "Named Entities (PRODUCT, ORG, GPE): [('Chrono Cross', 'ORG'), ('Time', 'ORG')]\n",
            "\n",
            "Review 6:\n",
            "an absolute masterpiece: I am quite sure any of you actually taking the time to read this have played the game at least once, and heard at least a few of the tracks here. And whether you were aware of it or not, Mitsuda's music contributed greatly to the mood of every single minute of the whole game.Composed of 3 CDs and quite a few songs (I haven't an exact count), all of which are heart-rendering and impressively remarkable, this soundtrack is one I assure you you will not forget. It has everything for every listener -- from fast-paced and energetic (Dancing the Tokage or Termina Home), to slower and more haunting (Dragon God), to purely beautifully composed (Time's Scar), to even some fantastic vocals (Radical Dreamers).This is one of the best videogame soundtracks out there, and surely Mitsuda's best ever. ^_^\n",
            "Sentiment (from label): Positive\n",
            "Named Entities (PRODUCT, ORG, GPE): [('Time', 'ORG')]\n",
            "\n",
            "Review 7:\n",
            "Buyer beware: This is a self-published book, and if you want to know why--read a few paragraphs! Those 5 star reviews must have been written by Ms. Haddon's family and friends--or perhaps, by herself! I can't imagine anyone reading the whole thing--I spent an evening with the book and a friend and we were in hysterics reading bits and pieces of it to one another. It is most definitely bad enough to be entered into some kind of a \"worst book\" contest. I can't believe Amazon even sells this kind of thing. Maybe I can offer them my 8th grade term paper on \"To Kill a Mockingbird\"--a book I am quite sure Ms. Haddon never heard of. Anyway, unless you are in a mood to send a book to someone as a joke---stay far, far away from this one!\n",
            "Sentiment (from label): Negative\n",
            "Named Entities (PRODUCT, ORG, GPE): [('Amazon', 'ORG')]\n",
            "\n",
            "Review 8:\n",
            "Glorious story: I loved Whisper of the wicked saints. The story was amazing and I was pleasantly surprised at the changes in the book. I am not normaly someone who is into romance novels, but the world was raving about this book and so I bought it. I loved it !! This is a brilliant story because it is so true. This book was so wonderful that I have told all of my friends to read it. It is not a typical romance, it is so much more. Not reading this book is a crime, becuase you are missing out on a heart warming story.\n",
            "Sentiment (from label): Positive\n",
            "Named Entities (PRODUCT, ORG, GPE): [('normaly', 'GPE')]\n",
            "\n",
            "Review 9:\n",
            "A FIVE STAR BOOK: I just finished reading Whisper of the Wicked saints. I fell in love with the caracters. I expected an average romance read, but instead I found one of my favorite books of all time. Just when I thought I could predict the outcome I was shocked ! The writting was so descriptive that my heart broke when Julia's did and I felt as if I was there with them instead of just a distant reader. If you are a lover of romance novels then this is a must read. Don't let the cover fool you this book is spectacular!\n",
            "Sentiment (from label): Positive\n",
            "Named Entities (PRODUCT, ORG, GPE): [('Whisper of the Wicked', 'ORG'), ('Julia', 'ORG')]\n",
            "\n",
            "Review 10:\n",
            "Whispers of the Wicked Saints: This was a easy to read book that made me want to keep reading on and on, not easy to put down.It left me wanting to read the follow on, which I hope is coming soon. I used to read a lot but have gotten away from it. This book made me want to read again. Very enjoyable.\n",
            "Sentiment (from label): Positive\n",
            "Named Entities (PRODUCT, ORG, GPE): []\n"
          ]
        }
      ]
    }
  ]
}